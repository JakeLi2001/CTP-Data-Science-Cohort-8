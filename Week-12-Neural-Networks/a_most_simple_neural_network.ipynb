{
  "nbformat": 4,
  "nbformat_minor": 0,
  "metadata": {
    "colab": {
      "provenance": [],
      "include_colab_link": true
    },
    "kernelspec": {
      "name": "python3",
      "display_name": "Python 3"
    },
    "language_info": {
      "name": "python"
    },
    "accelerator": "GPU",
    "gpuClass": "standard"
  },
  "cells": [
    {
      "cell_type": "markdown",
      "metadata": {
        "id": "view-in-github",
        "colab_type": "text"
      },
      "source": [
        "<a href=\"https://colab.research.google.com/github/JakeLi2001/CTP-Data-Science-Cohort-8/blob/main/Week-12-Neural-Networks/a_most_simple_neural_network.ipynb\" target=\"_parent\"><img src=\"https://colab.research.google.com/assets/colab-badge.svg\" alt=\"Open In Colab\"/></a>"
      ]
    },
    {
      "cell_type": "code",
      "source": [
        "# TensorFlow and tf.keras\n",
        "import tensorflow as tf\n",
        "from tensorflow import keras\n",
        "# Layers for our neural networks\n",
        "from tensorflow.keras.layers import Conv2D, MaxPooling2D, Dropout, Flatten, Dense\n",
        "# A pretrained model for transfer learning\n",
        "from keras.models import Model\n",
        "from keras.applications import vgg19\n",
        "\n",
        "# Our normal python data science stack you've come to know and love\n",
        "import numpy as np\n",
        "import os\n",
        "import sys\n",
        "import matplotlib.pyplot as plt\n",
        "import pandas as pd\n",
        "import seaborn as sns\n",
        "from sklearn.model_selection import train_test_split\n",
        "from sklearn import datasets\n",
        "\n",
        "print(tf.__version__)"
      ],
      "metadata": {
        "colab": {
          "base_uri": "https://localhost:8080/"
        },
        "id": "NzP0Fdxlm8qH",
        "outputId": "2c1456ff-7246-4ee1-a69b-da45403bcfa0"
      },
      "execution_count": 2,
      "outputs": [
        {
          "output_type": "stream",
          "name": "stdout",
          "text": [
            "2.12.0\n"
          ]
        }
      ]
    },
    {
      "cell_type": "code",
      "source": [
        "# the same prep we did for titanic earlier in the semester \n",
        "df = pd.read_csv('https://raw.githubusercontent.com/CUNYTechPrep/2020-fall-data-science/master/Week5-RandomForest/data/titanic.csv')\n",
        "df.head()"
      ],
      "metadata": {
        "colab": {
          "base_uri": "https://localhost:8080/",
          "height": 206
        },
        "id": "3tMPxFQ7GXgt",
        "outputId": "4057f053-04be-4385-f59a-95fa343363f5"
      },
      "execution_count": 3,
      "outputs": [
        {
          "output_type": "execute_result",
          "data": {
            "text/plain": [
              "   passengerid  survived  pclass  \\\n",
              "0            1         0       3   \n",
              "1            2         1       1   \n",
              "2            3         1       3   \n",
              "3            4         1       1   \n",
              "4            5         0       3   \n",
              "\n",
              "                                                name     sex   age  sibsp  \\\n",
              "0                            Braund, Mr. Owen Harris    male  22.0      1   \n",
              "1  Cumings, Mrs. John Bradley (Florence Briggs Th...  female  38.0      1   \n",
              "2                             Heikkinen, Miss. Laina  female  26.0      0   \n",
              "3       Futrelle, Mrs. Jacques Heath (Lily May Peel)  female  35.0      1   \n",
              "4                           Allen, Mr. William Henry    male  35.0      0   \n",
              "\n",
              "   parch            ticket     fare cabin embarked  \n",
              "0      0         A/5 21171   7.2500   NaN        S  \n",
              "1      0          PC 17599  71.2833   C85        C  \n",
              "2      0  STON/O2. 3101282   7.9250   NaN        S  \n",
              "3      0            113803  53.1000  C123        S  \n",
              "4      0            373450   8.0500   NaN        S  "
            ],
            "text/html": [
              "\n",
              "  <div id=\"df-8127dd9c-784f-43ed-a6d7-c1ef659c14eb\">\n",
              "    <div class=\"colab-df-container\">\n",
              "      <div>\n",
              "<style scoped>\n",
              "    .dataframe tbody tr th:only-of-type {\n",
              "        vertical-align: middle;\n",
              "    }\n",
              "\n",
              "    .dataframe tbody tr th {\n",
              "        vertical-align: top;\n",
              "    }\n",
              "\n",
              "    .dataframe thead th {\n",
              "        text-align: right;\n",
              "    }\n",
              "</style>\n",
              "<table border=\"1\" class=\"dataframe\">\n",
              "  <thead>\n",
              "    <tr style=\"text-align: right;\">\n",
              "      <th></th>\n",
              "      <th>passengerid</th>\n",
              "      <th>survived</th>\n",
              "      <th>pclass</th>\n",
              "      <th>name</th>\n",
              "      <th>sex</th>\n",
              "      <th>age</th>\n",
              "      <th>sibsp</th>\n",
              "      <th>parch</th>\n",
              "      <th>ticket</th>\n",
              "      <th>fare</th>\n",
              "      <th>cabin</th>\n",
              "      <th>embarked</th>\n",
              "    </tr>\n",
              "  </thead>\n",
              "  <tbody>\n",
              "    <tr>\n",
              "      <th>0</th>\n",
              "      <td>1</td>\n",
              "      <td>0</td>\n",
              "      <td>3</td>\n",
              "      <td>Braund, Mr. Owen Harris</td>\n",
              "      <td>male</td>\n",
              "      <td>22.0</td>\n",
              "      <td>1</td>\n",
              "      <td>0</td>\n",
              "      <td>A/5 21171</td>\n",
              "      <td>7.2500</td>\n",
              "      <td>NaN</td>\n",
              "      <td>S</td>\n",
              "    </tr>\n",
              "    <tr>\n",
              "      <th>1</th>\n",
              "      <td>2</td>\n",
              "      <td>1</td>\n",
              "      <td>1</td>\n",
              "      <td>Cumings, Mrs. John Bradley (Florence Briggs Th...</td>\n",
              "      <td>female</td>\n",
              "      <td>38.0</td>\n",
              "      <td>1</td>\n",
              "      <td>0</td>\n",
              "      <td>PC 17599</td>\n",
              "      <td>71.2833</td>\n",
              "      <td>C85</td>\n",
              "      <td>C</td>\n",
              "    </tr>\n",
              "    <tr>\n",
              "      <th>2</th>\n",
              "      <td>3</td>\n",
              "      <td>1</td>\n",
              "      <td>3</td>\n",
              "      <td>Heikkinen, Miss. Laina</td>\n",
              "      <td>female</td>\n",
              "      <td>26.0</td>\n",
              "      <td>0</td>\n",
              "      <td>0</td>\n",
              "      <td>STON/O2. 3101282</td>\n",
              "      <td>7.9250</td>\n",
              "      <td>NaN</td>\n",
              "      <td>S</td>\n",
              "    </tr>\n",
              "    <tr>\n",
              "      <th>3</th>\n",
              "      <td>4</td>\n",
              "      <td>1</td>\n",
              "      <td>1</td>\n",
              "      <td>Futrelle, Mrs. Jacques Heath (Lily May Peel)</td>\n",
              "      <td>female</td>\n",
              "      <td>35.0</td>\n",
              "      <td>1</td>\n",
              "      <td>0</td>\n",
              "      <td>113803</td>\n",
              "      <td>53.1000</td>\n",
              "      <td>C123</td>\n",
              "      <td>S</td>\n",
              "    </tr>\n",
              "    <tr>\n",
              "      <th>4</th>\n",
              "      <td>5</td>\n",
              "      <td>0</td>\n",
              "      <td>3</td>\n",
              "      <td>Allen, Mr. William Henry</td>\n",
              "      <td>male</td>\n",
              "      <td>35.0</td>\n",
              "      <td>0</td>\n",
              "      <td>0</td>\n",
              "      <td>373450</td>\n",
              "      <td>8.0500</td>\n",
              "      <td>NaN</td>\n",
              "      <td>S</td>\n",
              "    </tr>\n",
              "  </tbody>\n",
              "</table>\n",
              "</div>\n",
              "      <button class=\"colab-df-convert\" onclick=\"convertToInteractive('df-8127dd9c-784f-43ed-a6d7-c1ef659c14eb')\"\n",
              "              title=\"Convert this dataframe to an interactive table.\"\n",
              "              style=\"display:none;\">\n",
              "        \n",
              "  <svg xmlns=\"http://www.w3.org/2000/svg\" height=\"24px\"viewBox=\"0 0 24 24\"\n",
              "       width=\"24px\">\n",
              "    <path d=\"M0 0h24v24H0V0z\" fill=\"none\"/>\n",
              "    <path d=\"M18.56 5.44l.94 2.06.94-2.06 2.06-.94-2.06-.94-.94-2.06-.94 2.06-2.06.94zm-11 1L8.5 8.5l.94-2.06 2.06-.94-2.06-.94L8.5 2.5l-.94 2.06-2.06.94zm10 10l.94 2.06.94-2.06 2.06-.94-2.06-.94-.94-2.06-.94 2.06-2.06.94z\"/><path d=\"M17.41 7.96l-1.37-1.37c-.4-.4-.92-.59-1.43-.59-.52 0-1.04.2-1.43.59L10.3 9.45l-7.72 7.72c-.78.78-.78 2.05 0 2.83L4 21.41c.39.39.9.59 1.41.59.51 0 1.02-.2 1.41-.59l7.78-7.78 2.81-2.81c.8-.78.8-2.07 0-2.86zM5.41 20L4 18.59l7.72-7.72 1.47 1.35L5.41 20z\"/>\n",
              "  </svg>\n",
              "      </button>\n",
              "      \n",
              "  <style>\n",
              "    .colab-df-container {\n",
              "      display:flex;\n",
              "      flex-wrap:wrap;\n",
              "      gap: 12px;\n",
              "    }\n",
              "\n",
              "    .colab-df-convert {\n",
              "      background-color: #E8F0FE;\n",
              "      border: none;\n",
              "      border-radius: 50%;\n",
              "      cursor: pointer;\n",
              "      display: none;\n",
              "      fill: #1967D2;\n",
              "      height: 32px;\n",
              "      padding: 0 0 0 0;\n",
              "      width: 32px;\n",
              "    }\n",
              "\n",
              "    .colab-df-convert:hover {\n",
              "      background-color: #E2EBFA;\n",
              "      box-shadow: 0px 1px 2px rgba(60, 64, 67, 0.3), 0px 1px 3px 1px rgba(60, 64, 67, 0.15);\n",
              "      fill: #174EA6;\n",
              "    }\n",
              "\n",
              "    [theme=dark] .colab-df-convert {\n",
              "      background-color: #3B4455;\n",
              "      fill: #D2E3FC;\n",
              "    }\n",
              "\n",
              "    [theme=dark] .colab-df-convert:hover {\n",
              "      background-color: #434B5C;\n",
              "      box-shadow: 0px 1px 3px 1px rgba(0, 0, 0, 0.15);\n",
              "      filter: drop-shadow(0px 1px 2px rgba(0, 0, 0, 0.3));\n",
              "      fill: #FFFFFF;\n",
              "    }\n",
              "  </style>\n",
              "\n",
              "      <script>\n",
              "        const buttonEl =\n",
              "          document.querySelector('#df-8127dd9c-784f-43ed-a6d7-c1ef659c14eb button.colab-df-convert');\n",
              "        buttonEl.style.display =\n",
              "          google.colab.kernel.accessAllowed ? 'block' : 'none';\n",
              "\n",
              "        async function convertToInteractive(key) {\n",
              "          const element = document.querySelector('#df-8127dd9c-784f-43ed-a6d7-c1ef659c14eb');\n",
              "          const dataTable =\n",
              "            await google.colab.kernel.invokeFunction('convertToInteractive',\n",
              "                                                     [key], {});\n",
              "          if (!dataTable) return;\n",
              "\n",
              "          const docLinkHtml = 'Like what you see? Visit the ' +\n",
              "            '<a target=\"_blank\" href=https://colab.research.google.com/notebooks/data_table.ipynb>data table notebook</a>'\n",
              "            + ' to learn more about interactive tables.';\n",
              "          element.innerHTML = '';\n",
              "          dataTable['output_type'] = 'display_data';\n",
              "          await google.colab.output.renderOutput(dataTable, element);\n",
              "          const docLink = document.createElement('div');\n",
              "          docLink.innerHTML = docLinkHtml;\n",
              "          element.appendChild(docLink);\n",
              "        }\n",
              "      </script>\n",
              "    </div>\n",
              "  </div>\n",
              "  "
            ]
          },
          "metadata": {},
          "execution_count": 3
        }
      ]
    },
    {
      "cell_type": "code",
      "source": [
        "df = pd.get_dummies(df, columns=['sex', 'pclass', 'embarked'], drop_first=True)\n",
        "df.head()"
      ],
      "metadata": {
        "colab": {
          "base_uri": "https://localhost:8080/",
          "height": 206
        },
        "id": "b8nxVN5pGkFB",
        "outputId": "0d3d146e-038f-44f4-d92c-da4857e2fbe9"
      },
      "execution_count": 4,
      "outputs": [
        {
          "output_type": "execute_result",
          "data": {
            "text/plain": [
              "   passengerid  survived                                               name  \\\n",
              "0            1         0                            Braund, Mr. Owen Harris   \n",
              "1            2         1  Cumings, Mrs. John Bradley (Florence Briggs Th...   \n",
              "2            3         1                             Heikkinen, Miss. Laina   \n",
              "3            4         1       Futrelle, Mrs. Jacques Heath (Lily May Peel)   \n",
              "4            5         0                           Allen, Mr. William Henry   \n",
              "\n",
              "    age  sibsp  parch            ticket     fare cabin  sex_male  pclass_2  \\\n",
              "0  22.0      1      0         A/5 21171   7.2500   NaN         1         0   \n",
              "1  38.0      1      0          PC 17599  71.2833   C85         0         0   \n",
              "2  26.0      0      0  STON/O2. 3101282   7.9250   NaN         0         0   \n",
              "3  35.0      1      0            113803  53.1000  C123         0         0   \n",
              "4  35.0      0      0            373450   8.0500   NaN         1         0   \n",
              "\n",
              "   pclass_3  embarked_Q  embarked_S  \n",
              "0         1           0           1  \n",
              "1         0           0           0  \n",
              "2         1           0           1  \n",
              "3         0           0           1  \n",
              "4         1           0           1  "
            ],
            "text/html": [
              "\n",
              "  <div id=\"df-15765f26-5bd7-462d-beda-90b5c79b1b68\">\n",
              "    <div class=\"colab-df-container\">\n",
              "      <div>\n",
              "<style scoped>\n",
              "    .dataframe tbody tr th:only-of-type {\n",
              "        vertical-align: middle;\n",
              "    }\n",
              "\n",
              "    .dataframe tbody tr th {\n",
              "        vertical-align: top;\n",
              "    }\n",
              "\n",
              "    .dataframe thead th {\n",
              "        text-align: right;\n",
              "    }\n",
              "</style>\n",
              "<table border=\"1\" class=\"dataframe\">\n",
              "  <thead>\n",
              "    <tr style=\"text-align: right;\">\n",
              "      <th></th>\n",
              "      <th>passengerid</th>\n",
              "      <th>survived</th>\n",
              "      <th>name</th>\n",
              "      <th>age</th>\n",
              "      <th>sibsp</th>\n",
              "      <th>parch</th>\n",
              "      <th>ticket</th>\n",
              "      <th>fare</th>\n",
              "      <th>cabin</th>\n",
              "      <th>sex_male</th>\n",
              "      <th>pclass_2</th>\n",
              "      <th>pclass_3</th>\n",
              "      <th>embarked_Q</th>\n",
              "      <th>embarked_S</th>\n",
              "    </tr>\n",
              "  </thead>\n",
              "  <tbody>\n",
              "    <tr>\n",
              "      <th>0</th>\n",
              "      <td>1</td>\n",
              "      <td>0</td>\n",
              "      <td>Braund, Mr. Owen Harris</td>\n",
              "      <td>22.0</td>\n",
              "      <td>1</td>\n",
              "      <td>0</td>\n",
              "      <td>A/5 21171</td>\n",
              "      <td>7.2500</td>\n",
              "      <td>NaN</td>\n",
              "      <td>1</td>\n",
              "      <td>0</td>\n",
              "      <td>1</td>\n",
              "      <td>0</td>\n",
              "      <td>1</td>\n",
              "    </tr>\n",
              "    <tr>\n",
              "      <th>1</th>\n",
              "      <td>2</td>\n",
              "      <td>1</td>\n",
              "      <td>Cumings, Mrs. John Bradley (Florence Briggs Th...</td>\n",
              "      <td>38.0</td>\n",
              "      <td>1</td>\n",
              "      <td>0</td>\n",
              "      <td>PC 17599</td>\n",
              "      <td>71.2833</td>\n",
              "      <td>C85</td>\n",
              "      <td>0</td>\n",
              "      <td>0</td>\n",
              "      <td>0</td>\n",
              "      <td>0</td>\n",
              "      <td>0</td>\n",
              "    </tr>\n",
              "    <tr>\n",
              "      <th>2</th>\n",
              "      <td>3</td>\n",
              "      <td>1</td>\n",
              "      <td>Heikkinen, Miss. Laina</td>\n",
              "      <td>26.0</td>\n",
              "      <td>0</td>\n",
              "      <td>0</td>\n",
              "      <td>STON/O2. 3101282</td>\n",
              "      <td>7.9250</td>\n",
              "      <td>NaN</td>\n",
              "      <td>0</td>\n",
              "      <td>0</td>\n",
              "      <td>1</td>\n",
              "      <td>0</td>\n",
              "      <td>1</td>\n",
              "    </tr>\n",
              "    <tr>\n",
              "      <th>3</th>\n",
              "      <td>4</td>\n",
              "      <td>1</td>\n",
              "      <td>Futrelle, Mrs. Jacques Heath (Lily May Peel)</td>\n",
              "      <td>35.0</td>\n",
              "      <td>1</td>\n",
              "      <td>0</td>\n",
              "      <td>113803</td>\n",
              "      <td>53.1000</td>\n",
              "      <td>C123</td>\n",
              "      <td>0</td>\n",
              "      <td>0</td>\n",
              "      <td>0</td>\n",
              "      <td>0</td>\n",
              "      <td>1</td>\n",
              "    </tr>\n",
              "    <tr>\n",
              "      <th>4</th>\n",
              "      <td>5</td>\n",
              "      <td>0</td>\n",
              "      <td>Allen, Mr. William Henry</td>\n",
              "      <td>35.0</td>\n",
              "      <td>0</td>\n",
              "      <td>0</td>\n",
              "      <td>373450</td>\n",
              "      <td>8.0500</td>\n",
              "      <td>NaN</td>\n",
              "      <td>1</td>\n",
              "      <td>0</td>\n",
              "      <td>1</td>\n",
              "      <td>0</td>\n",
              "      <td>1</td>\n",
              "    </tr>\n",
              "  </tbody>\n",
              "</table>\n",
              "</div>\n",
              "      <button class=\"colab-df-convert\" onclick=\"convertToInteractive('df-15765f26-5bd7-462d-beda-90b5c79b1b68')\"\n",
              "              title=\"Convert this dataframe to an interactive table.\"\n",
              "              style=\"display:none;\">\n",
              "        \n",
              "  <svg xmlns=\"http://www.w3.org/2000/svg\" height=\"24px\"viewBox=\"0 0 24 24\"\n",
              "       width=\"24px\">\n",
              "    <path d=\"M0 0h24v24H0V0z\" fill=\"none\"/>\n",
              "    <path d=\"M18.56 5.44l.94 2.06.94-2.06 2.06-.94-2.06-.94-.94-2.06-.94 2.06-2.06.94zm-11 1L8.5 8.5l.94-2.06 2.06-.94-2.06-.94L8.5 2.5l-.94 2.06-2.06.94zm10 10l.94 2.06.94-2.06 2.06-.94-2.06-.94-.94-2.06-.94 2.06-2.06.94z\"/><path d=\"M17.41 7.96l-1.37-1.37c-.4-.4-.92-.59-1.43-.59-.52 0-1.04.2-1.43.59L10.3 9.45l-7.72 7.72c-.78.78-.78 2.05 0 2.83L4 21.41c.39.39.9.59 1.41.59.51 0 1.02-.2 1.41-.59l7.78-7.78 2.81-2.81c.8-.78.8-2.07 0-2.86zM5.41 20L4 18.59l7.72-7.72 1.47 1.35L5.41 20z\"/>\n",
              "  </svg>\n",
              "      </button>\n",
              "      \n",
              "  <style>\n",
              "    .colab-df-container {\n",
              "      display:flex;\n",
              "      flex-wrap:wrap;\n",
              "      gap: 12px;\n",
              "    }\n",
              "\n",
              "    .colab-df-convert {\n",
              "      background-color: #E8F0FE;\n",
              "      border: none;\n",
              "      border-radius: 50%;\n",
              "      cursor: pointer;\n",
              "      display: none;\n",
              "      fill: #1967D2;\n",
              "      height: 32px;\n",
              "      padding: 0 0 0 0;\n",
              "      width: 32px;\n",
              "    }\n",
              "\n",
              "    .colab-df-convert:hover {\n",
              "      background-color: #E2EBFA;\n",
              "      box-shadow: 0px 1px 2px rgba(60, 64, 67, 0.3), 0px 1px 3px 1px rgba(60, 64, 67, 0.15);\n",
              "      fill: #174EA6;\n",
              "    }\n",
              "\n",
              "    [theme=dark] .colab-df-convert {\n",
              "      background-color: #3B4455;\n",
              "      fill: #D2E3FC;\n",
              "    }\n",
              "\n",
              "    [theme=dark] .colab-df-convert:hover {\n",
              "      background-color: #434B5C;\n",
              "      box-shadow: 0px 1px 3px 1px rgba(0, 0, 0, 0.15);\n",
              "      filter: drop-shadow(0px 1px 2px rgba(0, 0, 0, 0.3));\n",
              "      fill: #FFFFFF;\n",
              "    }\n",
              "  </style>\n",
              "\n",
              "      <script>\n",
              "        const buttonEl =\n",
              "          document.querySelector('#df-15765f26-5bd7-462d-beda-90b5c79b1b68 button.colab-df-convert');\n",
              "        buttonEl.style.display =\n",
              "          google.colab.kernel.accessAllowed ? 'block' : 'none';\n",
              "\n",
              "        async function convertToInteractive(key) {\n",
              "          const element = document.querySelector('#df-15765f26-5bd7-462d-beda-90b5c79b1b68');\n",
              "          const dataTable =\n",
              "            await google.colab.kernel.invokeFunction('convertToInteractive',\n",
              "                                                     [key], {});\n",
              "          if (!dataTable) return;\n",
              "\n",
              "          const docLinkHtml = 'Like what you see? Visit the ' +\n",
              "            '<a target=\"_blank\" href=https://colab.research.google.com/notebooks/data_table.ipynb>data table notebook</a>'\n",
              "            + ' to learn more about interactive tables.';\n",
              "          element.innerHTML = '';\n",
              "          dataTable['output_type'] = 'display_data';\n",
              "          await google.colab.output.renderOutput(dataTable, element);\n",
              "          const docLink = document.createElement('div');\n",
              "          docLink.innerHTML = docLinkHtml;\n",
              "          element.appendChild(docLink);\n",
              "        }\n",
              "      </script>\n",
              "    </div>\n",
              "  </div>\n",
              "  "
            ]
          },
          "metadata": {},
          "execution_count": 4
        }
      ]
    },
    {
      "cell_type": "code",
      "execution_count": 5,
      "metadata": {
        "colab": {
          "base_uri": "https://localhost:8080/",
          "height": 241
        },
        "id": "6s8J65q8mzGE",
        "outputId": "40b0e5ee-985c-4756-9d16-8cb2699e1b7a"
      },
      "outputs": [
        {
          "output_type": "stream",
          "name": "stdout",
          "text": [
            "Lenght of our Training data: (712, 9) \n",
            "Length of our Testing data: (179,)\n"
          ]
        },
        {
          "output_type": "execute_result",
          "data": {
            "text/plain": [
              "   passengerid  survived                                               name  \\\n",
              "0            1         0                            Braund, Mr. Owen Harris   \n",
              "1            2         1  Cumings, Mrs. John Bradley (Florence Briggs Th...   \n",
              "2            3         1                             Heikkinen, Miss. Laina   \n",
              "3            4         1       Futrelle, Mrs. Jacques Heath (Lily May Peel)   \n",
              "4            5         0                           Allen, Mr. William Henry   \n",
              "\n",
              "    age  sibsp  parch            ticket     fare cabin  sex_male  pclass_2  \\\n",
              "0  22.0      1      0         A/5 21171   7.2500   NaN         1         0   \n",
              "1  38.0      1      0          PC 17599  71.2833   C85         0         0   \n",
              "2  26.0      0      0  STON/O2. 3101282   7.9250   NaN         0         0   \n",
              "3  35.0      1      0            113803  53.1000  C123         0         0   \n",
              "4  35.0      0      0            373450   8.0500   NaN         1         0   \n",
              "\n",
              "   pclass_3  embarked_Q  embarked_S  \n",
              "0         1           0           1  \n",
              "1         0           0           0  \n",
              "2         1           0           1  \n",
              "3         0           0           1  \n",
              "4         1           0           1  "
            ],
            "text/html": [
              "\n",
              "  <div id=\"df-20e2e9fa-0497-487d-9993-a7f6a0d8a34d\">\n",
              "    <div class=\"colab-df-container\">\n",
              "      <div>\n",
              "<style scoped>\n",
              "    .dataframe tbody tr th:only-of-type {\n",
              "        vertical-align: middle;\n",
              "    }\n",
              "\n",
              "    .dataframe tbody tr th {\n",
              "        vertical-align: top;\n",
              "    }\n",
              "\n",
              "    .dataframe thead th {\n",
              "        text-align: right;\n",
              "    }\n",
              "</style>\n",
              "<table border=\"1\" class=\"dataframe\">\n",
              "  <thead>\n",
              "    <tr style=\"text-align: right;\">\n",
              "      <th></th>\n",
              "      <th>passengerid</th>\n",
              "      <th>survived</th>\n",
              "      <th>name</th>\n",
              "      <th>age</th>\n",
              "      <th>sibsp</th>\n",
              "      <th>parch</th>\n",
              "      <th>ticket</th>\n",
              "      <th>fare</th>\n",
              "      <th>cabin</th>\n",
              "      <th>sex_male</th>\n",
              "      <th>pclass_2</th>\n",
              "      <th>pclass_3</th>\n",
              "      <th>embarked_Q</th>\n",
              "      <th>embarked_S</th>\n",
              "    </tr>\n",
              "  </thead>\n",
              "  <tbody>\n",
              "    <tr>\n",
              "      <th>0</th>\n",
              "      <td>1</td>\n",
              "      <td>0</td>\n",
              "      <td>Braund, Mr. Owen Harris</td>\n",
              "      <td>22.0</td>\n",
              "      <td>1</td>\n",
              "      <td>0</td>\n",
              "      <td>A/5 21171</td>\n",
              "      <td>7.2500</td>\n",
              "      <td>NaN</td>\n",
              "      <td>1</td>\n",
              "      <td>0</td>\n",
              "      <td>1</td>\n",
              "      <td>0</td>\n",
              "      <td>1</td>\n",
              "    </tr>\n",
              "    <tr>\n",
              "      <th>1</th>\n",
              "      <td>2</td>\n",
              "      <td>1</td>\n",
              "      <td>Cumings, Mrs. John Bradley (Florence Briggs Th...</td>\n",
              "      <td>38.0</td>\n",
              "      <td>1</td>\n",
              "      <td>0</td>\n",
              "      <td>PC 17599</td>\n",
              "      <td>71.2833</td>\n",
              "      <td>C85</td>\n",
              "      <td>0</td>\n",
              "      <td>0</td>\n",
              "      <td>0</td>\n",
              "      <td>0</td>\n",
              "      <td>0</td>\n",
              "    </tr>\n",
              "    <tr>\n",
              "      <th>2</th>\n",
              "      <td>3</td>\n",
              "      <td>1</td>\n",
              "      <td>Heikkinen, Miss. Laina</td>\n",
              "      <td>26.0</td>\n",
              "      <td>0</td>\n",
              "      <td>0</td>\n",
              "      <td>STON/O2. 3101282</td>\n",
              "      <td>7.9250</td>\n",
              "      <td>NaN</td>\n",
              "      <td>0</td>\n",
              "      <td>0</td>\n",
              "      <td>1</td>\n",
              "      <td>0</td>\n",
              "      <td>1</td>\n",
              "    </tr>\n",
              "    <tr>\n",
              "      <th>3</th>\n",
              "      <td>4</td>\n",
              "      <td>1</td>\n",
              "      <td>Futrelle, Mrs. Jacques Heath (Lily May Peel)</td>\n",
              "      <td>35.0</td>\n",
              "      <td>1</td>\n",
              "      <td>0</td>\n",
              "      <td>113803</td>\n",
              "      <td>53.1000</td>\n",
              "      <td>C123</td>\n",
              "      <td>0</td>\n",
              "      <td>0</td>\n",
              "      <td>0</td>\n",
              "      <td>0</td>\n",
              "      <td>1</td>\n",
              "    </tr>\n",
              "    <tr>\n",
              "      <th>4</th>\n",
              "      <td>5</td>\n",
              "      <td>0</td>\n",
              "      <td>Allen, Mr. William Henry</td>\n",
              "      <td>35.0</td>\n",
              "      <td>0</td>\n",
              "      <td>0</td>\n",
              "      <td>373450</td>\n",
              "      <td>8.0500</td>\n",
              "      <td>NaN</td>\n",
              "      <td>1</td>\n",
              "      <td>0</td>\n",
              "      <td>1</td>\n",
              "      <td>0</td>\n",
              "      <td>1</td>\n",
              "    </tr>\n",
              "  </tbody>\n",
              "</table>\n",
              "</div>\n",
              "      <button class=\"colab-df-convert\" onclick=\"convertToInteractive('df-20e2e9fa-0497-487d-9993-a7f6a0d8a34d')\"\n",
              "              title=\"Convert this dataframe to an interactive table.\"\n",
              "              style=\"display:none;\">\n",
              "        \n",
              "  <svg xmlns=\"http://www.w3.org/2000/svg\" height=\"24px\"viewBox=\"0 0 24 24\"\n",
              "       width=\"24px\">\n",
              "    <path d=\"M0 0h24v24H0V0z\" fill=\"none\"/>\n",
              "    <path d=\"M18.56 5.44l.94 2.06.94-2.06 2.06-.94-2.06-.94-.94-2.06-.94 2.06-2.06.94zm-11 1L8.5 8.5l.94-2.06 2.06-.94-2.06-.94L8.5 2.5l-.94 2.06-2.06.94zm10 10l.94 2.06.94-2.06 2.06-.94-2.06-.94-.94-2.06-.94 2.06-2.06.94z\"/><path d=\"M17.41 7.96l-1.37-1.37c-.4-.4-.92-.59-1.43-.59-.52 0-1.04.2-1.43.59L10.3 9.45l-7.72 7.72c-.78.78-.78 2.05 0 2.83L4 21.41c.39.39.9.59 1.41.59.51 0 1.02-.2 1.41-.59l7.78-7.78 2.81-2.81c.8-.78.8-2.07 0-2.86zM5.41 20L4 18.59l7.72-7.72 1.47 1.35L5.41 20z\"/>\n",
              "  </svg>\n",
              "      </button>\n",
              "      \n",
              "  <style>\n",
              "    .colab-df-container {\n",
              "      display:flex;\n",
              "      flex-wrap:wrap;\n",
              "      gap: 12px;\n",
              "    }\n",
              "\n",
              "    .colab-df-convert {\n",
              "      background-color: #E8F0FE;\n",
              "      border: none;\n",
              "      border-radius: 50%;\n",
              "      cursor: pointer;\n",
              "      display: none;\n",
              "      fill: #1967D2;\n",
              "      height: 32px;\n",
              "      padding: 0 0 0 0;\n",
              "      width: 32px;\n",
              "    }\n",
              "\n",
              "    .colab-df-convert:hover {\n",
              "      background-color: #E2EBFA;\n",
              "      box-shadow: 0px 1px 2px rgba(60, 64, 67, 0.3), 0px 1px 3px 1px rgba(60, 64, 67, 0.15);\n",
              "      fill: #174EA6;\n",
              "    }\n",
              "\n",
              "    [theme=dark] .colab-df-convert {\n",
              "      background-color: #3B4455;\n",
              "      fill: #D2E3FC;\n",
              "    }\n",
              "\n",
              "    [theme=dark] .colab-df-convert:hover {\n",
              "      background-color: #434B5C;\n",
              "      box-shadow: 0px 1px 3px 1px rgba(0, 0, 0, 0.15);\n",
              "      filter: drop-shadow(0px 1px 2px rgba(0, 0, 0, 0.3));\n",
              "      fill: #FFFFFF;\n",
              "    }\n",
              "  </style>\n",
              "\n",
              "      <script>\n",
              "        const buttonEl =\n",
              "          document.querySelector('#df-20e2e9fa-0497-487d-9993-a7f6a0d8a34d button.colab-df-convert');\n",
              "        buttonEl.style.display =\n",
              "          google.colab.kernel.accessAllowed ? 'block' : 'none';\n",
              "\n",
              "        async function convertToInteractive(key) {\n",
              "          const element = document.querySelector('#df-20e2e9fa-0497-487d-9993-a7f6a0d8a34d');\n",
              "          const dataTable =\n",
              "            await google.colab.kernel.invokeFunction('convertToInteractive',\n",
              "                                                     [key], {});\n",
              "          if (!dataTable) return;\n",
              "\n",
              "          const docLinkHtml = 'Like what you see? Visit the ' +\n",
              "            '<a target=\"_blank\" href=https://colab.research.google.com/notebooks/data_table.ipynb>data table notebook</a>'\n",
              "            + ' to learn more about interactive tables.';\n",
              "          element.innerHTML = '';\n",
              "          dataTable['output_type'] = 'display_data';\n",
              "          await google.colab.output.renderOutput(dataTable, element);\n",
              "          const docLink = document.createElement('div');\n",
              "          docLink.innerHTML = docLinkHtml;\n",
              "          element.appendChild(docLink);\n",
              "        }\n",
              "      </script>\n",
              "    </div>\n",
              "  </div>\n",
              "  "
            ]
          },
          "metadata": {},
          "execution_count": 5
        }
      ],
      "source": [
        "selected_features = ['fare', 'age', 'sex_male', 'pclass_2', 'pclass_3', 'sibsp', 'parch', 'embarked_Q', 'embarked_S']\n",
        "df['age'] = df['age'].fillna(-999)\n",
        "\n",
        "X = df[selected_features]\n",
        "y = df['survived']\n",
        "\n",
        "X_train, X_test, y_train, y_test = train_test_split(X, y, test_size=0.2, random_state=45)\n",
        "\n",
        "print('Lenght of our Training data:', X_train.shape, '\\nLength of our Testing data:', y_test.shape)\n",
        "df.head()"
      ]
    },
    {
      "cell_type": "code",
      "source": [
        "model = tf.keras.models.Sequential([                \n",
        "  tf.keras.layers.Dense(9, activation='relu'),\n",
        "  tf.keras.layers.Dense(128, activation='relu'),\n",
        "  tf.keras.layers.Dense(128, activation='relu'),\n",
        "  tf.keras.layers.Dense(1, activation='sigmoid') \n",
        "  ])\n",
        "\n",
        "# note that the compile function operates \"inplace,\" we don't return the model when we're done, similar to the fit method from sklearn\n",
        "model.compile(  \n",
        "    optimizer=tf.keras.optimizers.Adam(),   \n",
        "    loss='binary_crossentropy', \n",
        "    metrics=['accuracy'])"
      ],
      "metadata": {
        "id": "WPU3H7bpm6Sm"
      },
      "execution_count": 7,
      "outputs": []
    },
    {
      "cell_type": "code",
      "source": [
        "x = X_train.iloc[0].values\n",
        "print(x.shape, len(x))\n",
        "print(x)\n",
        "\n",
        "x = x.reshape(-1, 9)\n",
        "print(x.shape)\n",
        "print(x)"
      ],
      "metadata": {
        "colab": {
          "base_uri": "https://localhost:8080/"
        },
        "id": "Ju7j_TM_IfxL",
        "outputId": "6e27fa9e-417c-4f0c-8cff-899e01cbdb87"
      },
      "execution_count": 14,
      "outputs": [
        {
          "output_type": "stream",
          "name": "stdout",
          "text": [
            "(9,) 9\n",
            "[153.4625  38.       1.       0.       0.       0.       1.       0.\n",
            "   1.    ]\n",
            "(1, 9)\n",
            "[[153.4625  38.       1.       0.       0.       0.       1.       0.\n",
            "    1.    ]]\n"
          ]
        }
      ]
    },
    {
      "cell_type": "code",
      "source": [
        "z = model(x, training=False)\n",
        "p = model.predict(x)\n",
        "print(z, p)"
      ],
      "metadata": {
        "colab": {
          "base_uri": "https://localhost:8080/"
        },
        "id": "DnU1zJZTUPeX",
        "outputId": "f0e7dd47-f368-49f1-d4d3-e154ec5e6ee7"
      },
      "execution_count": 15,
      "outputs": [
        {
          "output_type": "stream",
          "name": "stdout",
          "text": [
            "1/1 [==============================] - 0s 139ms/step\n",
            "tf.Tensor([[0.07936948]], shape=(1, 1), dtype=float32) [[0.07936948]]\n"
          ]
        }
      ]
    },
    {
      "cell_type": "code",
      "source": [
        "# model.compile??\n",
        "# tf.keras.optimizers.Optimizer??\n",
        "# tf.keras.losses??\n",
        "# tf.keras.layers??\n",
        "# tf.keras.metrics.BinaryAccuracy,\n",
        "# tf.keras.metrics.CategoricalAccuracy,\n",
        "# tf.keras.metrics.SparseCategoricalAccuracy"
      ],
      "metadata": {
        "id": "WM2kuA3sm2Y2"
      },
      "execution_count": 16,
      "outputs": []
    },
    {
      "cell_type": "code",
      "source": [
        "epochs = 30\n",
        "history = model.fit(X_train, y_train, \n",
        "          epochs=epochs, \n",
        "          validation_split=0.1)"
      ],
      "metadata": {
        "colab": {
          "base_uri": "https://localhost:8080/"
        },
        "id": "kyUSrxPMnbXi",
        "outputId": "98215f0d-a159-4a90-ba66-47437b72d07f"
      },
      "execution_count": 17,
      "outputs": [
        {
          "output_type": "stream",
          "name": "stdout",
          "text": [
            "Epoch 1/30\n",
            "20/20 [==============================] - 3s 15ms/step - loss: 3.2669 - accuracy: 0.6562 - val_loss: 2.9674 - val_accuracy: 0.6111\n",
            "Epoch 2/30\n",
            "20/20 [==============================] - 0s 5ms/step - loss: 1.5871 - accuracy: 0.6234 - val_loss: 1.8655 - val_accuracy: 0.6806\n",
            "Epoch 3/30\n",
            "20/20 [==============================] - 0s 5ms/step - loss: 0.9618 - accuracy: 0.6547 - val_loss: 0.7359 - val_accuracy: 0.6806\n",
            "Epoch 4/30\n",
            "20/20 [==============================] - 0s 5ms/step - loss: 0.8192 - accuracy: 0.6719 - val_loss: 0.6494 - val_accuracy: 0.6528\n",
            "Epoch 5/30\n",
            "20/20 [==============================] - 0s 5ms/step - loss: 0.7512 - accuracy: 0.6812 - val_loss: 0.7157 - val_accuracy: 0.6944\n",
            "Epoch 6/30\n",
            "20/20 [==============================] - 0s 5ms/step - loss: 0.7417 - accuracy: 0.6859 - val_loss: 1.1717 - val_accuracy: 0.6806\n",
            "Epoch 7/30\n",
            "20/20 [==============================] - 0s 5ms/step - loss: 0.7013 - accuracy: 0.6969 - val_loss: 0.6675 - val_accuracy: 0.5556\n",
            "Epoch 8/30\n",
            "20/20 [==============================] - 0s 5ms/step - loss: 0.6583 - accuracy: 0.6703 - val_loss: 0.7328 - val_accuracy: 0.6806\n",
            "Epoch 9/30\n",
            "20/20 [==============================] - 0s 6ms/step - loss: 0.7085 - accuracy: 0.6938 - val_loss: 0.6641 - val_accuracy: 0.6806\n",
            "Epoch 10/30\n",
            "20/20 [==============================] - 0s 5ms/step - loss: 0.7766 - accuracy: 0.6922 - val_loss: 1.6048 - val_accuracy: 0.6806\n",
            "Epoch 11/30\n",
            "20/20 [==============================] - 0s 4ms/step - loss: 1.4869 - accuracy: 0.6594 - val_loss: 2.4105 - val_accuracy: 0.6667\n",
            "Epoch 12/30\n",
            "20/20 [==============================] - 0s 6ms/step - loss: 1.0818 - accuracy: 0.7094 - val_loss: 0.7532 - val_accuracy: 0.5972\n",
            "Epoch 13/30\n",
            "20/20 [==============================] - 0s 5ms/step - loss: 0.6350 - accuracy: 0.6953 - val_loss: 0.7077 - val_accuracy: 0.6667\n",
            "Epoch 14/30\n",
            "20/20 [==============================] - 0s 5ms/step - loss: 0.6535 - accuracy: 0.7094 - val_loss: 1.1776 - val_accuracy: 0.6667\n",
            "Epoch 15/30\n",
            "20/20 [==============================] - 0s 5ms/step - loss: 0.8283 - accuracy: 0.6828 - val_loss: 0.8772 - val_accuracy: 0.6667\n",
            "Epoch 16/30\n",
            "20/20 [==============================] - 0s 5ms/step - loss: 0.7165 - accuracy: 0.6562 - val_loss: 0.7011 - val_accuracy: 0.6806\n",
            "Epoch 17/30\n",
            "20/20 [==============================] - 0s 7ms/step - loss: 0.8943 - accuracy: 0.6938 - val_loss: 1.0234 - val_accuracy: 0.6528\n",
            "Epoch 18/30\n",
            "20/20 [==============================] - 0s 7ms/step - loss: 1.1046 - accuracy: 0.7203 - val_loss: 2.1817 - val_accuracy: 0.6806\n",
            "Epoch 19/30\n",
            "20/20 [==============================] - 0s 7ms/step - loss: 0.9753 - accuracy: 0.7094 - val_loss: 1.6046 - val_accuracy: 0.7083\n",
            "Epoch 20/30\n",
            "20/20 [==============================] - 0s 7ms/step - loss: 0.8979 - accuracy: 0.7094 - val_loss: 0.6609 - val_accuracy: 0.6806\n",
            "Epoch 21/30\n",
            "20/20 [==============================] - 0s 7ms/step - loss: 0.7275 - accuracy: 0.7312 - val_loss: 0.7831 - val_accuracy: 0.6944\n",
            "Epoch 22/30\n",
            "20/20 [==============================] - 0s 6ms/step - loss: 0.6372 - accuracy: 0.7312 - val_loss: 1.0467 - val_accuracy: 0.6806\n",
            "Epoch 23/30\n",
            "20/20 [==============================] - 0s 7ms/step - loss: 0.8729 - accuracy: 0.7250 - val_loss: 1.0769 - val_accuracy: 0.7083\n",
            "Epoch 24/30\n",
            "20/20 [==============================] - 0s 8ms/step - loss: 0.8601 - accuracy: 0.7281 - val_loss: 0.7550 - val_accuracy: 0.7361\n",
            "Epoch 25/30\n",
            "20/20 [==============================] - 0s 7ms/step - loss: 1.2278 - accuracy: 0.7219 - val_loss: 0.9223 - val_accuracy: 0.7222\n",
            "Epoch 26/30\n",
            "20/20 [==============================] - 0s 7ms/step - loss: 0.6937 - accuracy: 0.7563 - val_loss: 0.7682 - val_accuracy: 0.6944\n",
            "Epoch 27/30\n",
            "20/20 [==============================] - 0s 7ms/step - loss: 0.5835 - accuracy: 0.7437 - val_loss: 0.6051 - val_accuracy: 0.7083\n",
            "Epoch 28/30\n",
            "20/20 [==============================] - 0s 6ms/step - loss: 0.5901 - accuracy: 0.7266 - val_loss: 0.6980 - val_accuracy: 0.7083\n",
            "Epoch 29/30\n",
            "20/20 [==============================] - 0s 7ms/step - loss: 0.5737 - accuracy: 0.7531 - val_loss: 0.6957 - val_accuracy: 0.6111\n",
            "Epoch 30/30\n",
            "20/20 [==============================] - 0s 7ms/step - loss: 0.5786 - accuracy: 0.7453 - val_loss: 0.6827 - val_accuracy: 0.7222\n"
          ]
        }
      ]
    },
    {
      "cell_type": "code",
      "source": [
        "# now we evaluate our model\n",
        "model.evaluate(X_test, y_test)"
      ],
      "metadata": {
        "colab": {
          "base_uri": "https://localhost:8080/"
        },
        "id": "UpKHI95Knt2W",
        "outputId": "b552b56b-3472-4e53-858e-9de2f6971608"
      },
      "execution_count": 18,
      "outputs": [
        {
          "output_type": "stream",
          "name": "stdout",
          "text": [
            "6/6 [==============================] - 0s 5ms/step - loss: 0.5408 - accuracy: 0.7877\n"
          ]
        },
        {
          "output_type": "execute_result",
          "data": {
            "text/plain": [
              "[0.5408150553703308, 0.7877094745635986]"
            ]
          },
          "metadata": {},
          "execution_count": 18
        }
      ]
    },
    {
      "cell_type": "code",
      "source": [
        "acc = history.history['accuracy']\n",
        "val_acc = history.history['val_accuracy']\n",
        "\n",
        "loss = history.history['loss']\n",
        "val_loss = history.history['val_loss']\n",
        "\n",
        "epochs_range = range(epochs)\n",
        "\n",
        "plt.figure(figsize=(21, 8))\n",
        "plt.subplot(1, 2, 1)\n",
        "plt.plot(epochs_range, acc, label='Training Accuracy')\n",
        "plt.plot(epochs_range, val_acc, label='Validation Accuracy')\n",
        "plt.legend(loc='lower right')\n",
        "plt.title('Training and Validation Accuracy')\n",
        "\n",
        "plt.subplot(1, 2, 2)\n",
        "plt.plot(epochs_range, loss, label='Training Loss')\n",
        "plt.plot(epochs_range, val_loss, label='Validation Loss')\n",
        "plt.legend(loc='upper right')\n",
        "plt.title('Training and Validation Loss')\n",
        "plt.show()"
      ],
      "metadata": {
        "colab": {
          "base_uri": "https://localhost:8080/",
          "height": 586
        },
        "id": "6LByGXyEnw_G",
        "outputId": "1915d502-27a7-42fb-8862-62997ccc1125"
      },
      "execution_count": 19,
      "outputs": [
        {
          "output_type": "display_data",
          "data": {
            "text/plain": [
              "<Figure size 2100x800 with 2 Axes>"
            ],
            "image/png": "[encoded data removed]"
          },
          "metadata": {}
        }
      ]
    },
    {
      "cell_type": "markdown",
      "source": [
        "# A most simple example of image classification"
      ],
      "metadata": {
        "id": "SnATdQ7CqfkX"
      }
    },
    {
      "cell_type": "code",
      "source": [
        "# load the data \n",
        "(X_train, y_train), (X_test, y_test) = tf.keras.datasets.mnist.load_data(path=\"mnist.npz\")"
      ],
      "metadata": {
        "id": "ewxxKHC2fz9c"
      },
      "execution_count": 33,
      "outputs": []
    },
    {
      "cell_type": "code",
      "source": [
        "# view some images to make sure everything looks good\n",
        "# Set the size of our plot\n",
        "plt.figure(figsize=(8,8))\n",
        "\n",
        "# Select just one image from \n",
        "img = X_train[111]\n",
        "\n",
        "# Reshape the image to be a 28x28 matrix (original format of image)\n",
        "img = img.reshape(28,28)\n",
        "\n",
        "# Plot reshaped image\n",
        "plt.imshow(img, cmap='gray')"
      ],
      "metadata": {
        "colab": {
          "base_uri": "https://localhost:8080/",
          "height": 693
        },
        "id": "e_4GCUW3qjJ7",
        "outputId": "68361ecd-dac4-4752-b42d-a19a5e12a7c3"
      },
      "execution_count": 26,
      "outputs": [
        {
          "output_type": "execute_result",
          "data": {
            "text/plain": [
              "<matplotlib.image.AxesImage at 0x7f0518118340>"
            ]
          },
          "metadata": {},
          "execution_count": 26
        },
        {
          "output_type": "display_data",
          "data": {
            "text/plain": [
              "<Figure size 800x800 with 1 Axes>"
            ],
            "image/png": "[encoded data removed]"
          },
          "metadata": {}
        }
      ]
    },
    {
      "cell_type": "code",
      "source": [
        "X_train = X_train / 255\n",
        "X_test = X_test / 255\n",
        "\n",
        "X_train = X_train.reshape(-1, 28, 28, 1)\n",
        "y_train = y_train.reshape(-1)\n",
        "\n",
        "X_test = X_test.reshape(-1, 28, 28, 1)\n",
        "y_test = y_test.reshape(-1)"
      ],
      "metadata": {
        "id": "IexAvcl6qmjU"
      },
      "execution_count": 34,
      "outputs": []
    },
    {
      "cell_type": "markdown",
      "source": [
        "# Convolutions\n",
        "![image](https://i.ytimg.com/vi/bQYBm7XQ8HM/maxresdefault.jpg)\n",
        "![image](data:image/jpeg;base64,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)\n",
        "\n",
        "![image](https://miro.medium.com/max/1400/1*bIY_8FE7dJaGk1kjU7iVSg.png)"
      ],
      "metadata": {
        "id": "QZKr-GHHribf"
      }
    },
    {
      "cell_type": "code",
      "source": [
        "model = tf.keras.models.Sequential()\n",
        "# we start with some Conv2D layers alternating with some MaxPool layers\n",
        "# the filter size increases, I don't know why\n",
        "# we can add a lot of these chunks of Conv2D and MaxPool, up to 4 groups\n",
        "model.add(tf.keras.layers.Conv2D(input_shape=(28,28,1), filters=28, kernel_size=(3,3), strides=(1,1), activation=\"relu\"))\n",
        "model.add(tf.keras.layers.Conv2D(filters=28, kernel_size=(3,3), strides=(1,1), activation=\"relu\"))\n",
        "model.add(tf.keras.layers.MaxPool2D(2,2))\n",
        "\n",
        "model.add(tf.keras.layers.Conv2D(filters=28, kernel_size=(3,3), strides=(1,1), activation=\"relu\"))\n",
        "model.add(tf.keras.layers.Conv2D(filters=28, kernel_size=(3,3), strides=(1,1), activation=\"relu\"))\n",
        "model.add(tf.keras.layers.MaxPool2D(2,2))\n",
        "\n",
        "# we then need a flatten layer before going to the Dense layers\n",
        "model.add(tf.keras.layers.Flatten())\n",
        "\n",
        "model.add(tf.keras.layers.Dense(256, activation='relu'))\n",
        "model.add(tf.keras.layers.Dense(256, activation='relu'))\n",
        "model.add(tf.keras.layers.Dense(128, activation='relu'))\n",
        "model.add(tf.keras.layers.Dense(10))"
      ],
      "metadata": {
        "id": "rfogv7ZSrfqr"
      },
      "execution_count": 35,
      "outputs": []
    },
    {
      "cell_type": "code",
      "source": [
        "model.compile(optimizer=tf.keras.optimizers.Adam(), loss='sparse_categorical_crossentropy', metrics=['acc'])"
      ],
      "metadata": {
        "id": "XpTb2RVCqrhQ"
      },
      "execution_count": 36,
      "outputs": []
    },
    {
      "cell_type": "code",
      "source": [
        "epochs = 12\n",
        "model.fit(X_train, y_train, epochs=epochs, validation_split=0.1)"
      ],
      "metadata": {
        "colab": {
          "base_uri": "https://localhost:8080/"
        },
        "id": "77m1I7gSsk_P",
        "outputId": "e5e2fc8b-ef1b-418c-b39b-0f7b8c5b8ba0"
      },
      "execution_count": 37,
      "outputs": [
        {
          "output_type": "stream",
          "name": "stdout",
          "text": [
            "Epoch 1/12\n",
            "1688/1688 [==============================] - 19s 7ms/step - loss: 2.3344 - acc: 0.1141 - val_loss: 2.3026 - val_acc: 0.1050\n",
            "Epoch 2/12\n",
            "1688/1688 [==============================] - 10s 6ms/step - loss: 2.3026 - acc: 0.1134 - val_loss: 2.3026 - val_acc: 0.1050\n",
            "Epoch 3/12\n",
            "1688/1688 [==============================] - 9s 5ms/step - loss: 2.3026 - acc: 0.1134 - val_loss: 2.3026 - val_acc: 0.1050\n",
            "Epoch 4/12\n",
            "1688/1688 [==============================] - 10s 6ms/step - loss: 2.3026 - acc: 0.1134 - val_loss: 2.3026 - val_acc: 0.1050\n",
            "Epoch 5/12\n",
            "1688/1688 [==============================] - 10s 6ms/step - loss: 2.3026 - acc: 0.1134 - val_loss: 2.3026 - val_acc: 0.1050\n",
            "Epoch 6/12\n",
            "1688/1688 [==============================] - 10s 6ms/step - loss: 2.3026 - acc: 0.1134 - val_loss: 2.3026 - val_acc: 0.1050\n",
            "Epoch 7/12\n",
            "1688/1688 [==============================] - 10s 6ms/step - loss: 2.3026 - acc: 0.1134 - val_loss: 2.3026 - val_acc: 0.1050\n",
            "Epoch 8/12\n",
            "1688/1688 [==============================] - 9s 5ms/step - loss: 2.3026 - acc: 0.1134 - val_loss: 2.3026 - val_acc: 0.1050\n",
            "Epoch 9/12\n",
            "1688/1688 [==============================] - 10s 6ms/step - loss: 2.3026 - acc: 0.1134 - val_loss: 2.3026 - val_acc: 0.1050\n",
            "Epoch 10/12\n",
            "1688/1688 [==============================] - 10s 6ms/step - loss: 2.3026 - acc: 0.1134 - val_loss: 2.3026 - val_acc: 0.1050\n",
            "Epoch 11/12\n",
            "1688/1688 [==============================] - 10s 6ms/step - loss: 2.3026 - acc: 0.1134 - val_loss: 2.3026 - val_acc: 0.1050\n",
            "Epoch 12/12\n",
            "1688/1688 [==============================] - 9s 5ms/step - loss: 2.3026 - acc: 0.1134 - val_loss: 2.3026 - val_acc: 0.1050\n"
          ]
        },
        {
          "output_type": "execute_result",
          "data": {
            "text/plain": [
              "<keras.callbacks.History at 0x7f04903fa550>"
            ]
          },
          "metadata": {},
          "execution_count": 37
        }
      ]
    }
  ]
}